{
 "cells": [
  {
   "cell_type": "markdown",
   "id": "817ad256",
   "metadata": {},
   "source": [
    "## KNN IMPLEMENTATION"
   ]
  },
  {
   "cell_type": "markdown",
   "id": "4bf628e7",
   "metadata": {},
   "source": [
    "This section contains the Libraries we have used\n",
    "\n",
    "- pandas for dataframe processes\n",
    "- sklearn and Scipy for using built-in KNN, cosine similarity and Mean Absolute Error\n",
    "- Matplotlib for graphing"
   ]
  },
  {
   "cell_type": "code",
   "execution_count": 4,
   "id": "3efc6420",
   "metadata": {},
   "outputs": [],
   "source": [
    "# Importing libraries\n",
    "import pandas as pd \n",
    "from sklearn.neighbors import KNeighborsRegressor \n",
    "from sklearn.metrics.pairwise import cosine_similarity\n",
    "from scipy.spatial import distance_matrix\n",
    "from scipy.spatial.distance import euclidean, pdist, squareform\n",
    "from scipy import sparse\n",
    "import numpy as np\n",
    "import pandas as pd\n",
    "import matplotlib.pyplot as plt\n",
    "import math  \n",
    "import sklearn.metrics  \n",
    "from sklearn.metrics import mean_absolute_error"
   ]
  },
  {
   "cell_type": "markdown",
   "id": "b6ef5865",
   "metadata": {},
   "source": [
    "### Step 1: Load the dataset"
   ]
  },
  {
   "cell_type": "code",
   "execution_count": 5,
   "id": "2d6591ac",
   "metadata": {},
   "outputs": [],
   "source": [
    "# Load user ratings\n",
    "ratings = pd.read_csv('u.data', sep='\\t', names=['userId', 'movieId', 'rating', 'timestamp'])\n",
    "\n",
    "# Load movie info\n",
    "movies = pd.read_csv('u.item', sep='|', encoding='latin-1', usecols=[0, 1], names=['movieId', 'title'], header=None)\n"
   ]
  },
  {
   "cell_type": "markdown",
   "id": "abcbfaf3",
   "metadata": {},
   "source": [
    "### Step 2: Undetstand the data"
   ]
  },
  {
   "cell_type": "code",
   "execution_count": 6,
   "id": "0222de48",
   "metadata": {},
   "outputs": [
    {
     "name": "stdout",
     "output_type": "stream",
     "text": [
      "<class 'pandas.core.frame.DataFrame'>\n",
      "RangeIndex: 100000 entries, 0 to 99999\n",
      "Data columns (total 4 columns):\n",
      " #   Column     Non-Null Count   Dtype\n",
      "---  ------     --------------   -----\n",
      " 0   userId     100000 non-null  int64\n",
      " 1   movieId    100000 non-null  int64\n",
      " 2   rating     100000 non-null  int64\n",
      " 3   timestamp  100000 non-null  int64\n",
      "dtypes: int64(4)\n",
      "memory usage: 3.1 MB\n",
      "<class 'pandas.core.frame.DataFrame'>\n",
      "RangeIndex: 1682 entries, 0 to 1681\n",
      "Data columns (total 2 columns):\n",
      " #   Column   Non-Null Count  Dtype \n",
      "---  ------   --------------  ----- \n",
      " 0   movieId  1682 non-null   int64 \n",
      " 1   title    1682 non-null   object\n",
      "dtypes: int64(1), object(1)\n",
      "memory usage: 26.4+ KB\n"
     ]
    }
   ],
   "source": [
    "# Check the structure of ratings dataset\n",
    "ratings.info()\n",
    "\n",
    "# Check the structure of movies dataset\n",
    "movies.info()"
   ]
  },
  {
   "cell_type": "markdown",
   "id": "a7eac478",
   "metadata": {},
   "source": [
    "### Step 3: Merge the datasets (To get ratings along with movies)"
   ]
  },
  {
   "cell_type": "code",
   "execution_count": 7,
   "id": "af7f9aa3",
   "metadata": {},
   "outputs": [
    {
     "name": "stdout",
     "output_type": "stream",
     "text": [
      "   userId  movieId  rating  timestamp         title\n",
      "0     196      242       3  881250949  Kolya (1996)\n",
      "1      63      242       3  875747190  Kolya (1996)\n",
      "2     226      242       5  883888671  Kolya (1996)\n",
      "3     154      242       3  879138235  Kolya (1996)\n",
      "4     306      242       5  876503793  Kolya (1996)\n"
     ]
    }
   ],
   "source": [
    "data = pd.merge(ratings, movies, on='movieId')\n",
    "print(data.head())\n"
   ]
  },
  {
   "cell_type": "markdown",
   "id": "635bd357",
   "metadata": {},
   "source": [
    "### Step 4:Create a user-item matrix"
   ]
  },
  {
   "cell_type": "code",
   "execution_count": 8,
   "id": "fa74a8cd",
   "metadata": {},
   "outputs": [
    {
     "name": "stdout",
     "output_type": "stream",
     "text": [
      "(568, 605)\n",
      "title   101 Dalmatians (1996)  12 Angry Men (1957)  \\\n",
      "userId                                               \n",
      "1                         2.0                  5.0   \n",
      "2                         0.0                  0.0   \n",
      "3                         0.0                  0.0   \n",
      "5                         2.0                  0.0   \n",
      "6                         0.0                  4.0   \n",
      "\n",
      "title   2 Days in the Valley (1996)  20,000 Leagues Under the Sea (1954)  \\\n",
      "userId                                                                     \n",
      "1                               0.0                                  3.0   \n",
      "2                               0.0                                  0.0   \n",
      "3                               0.0                                  0.0   \n",
      "5                               0.0                                  0.0   \n",
      "6                               0.0                                  0.0   \n",
      "\n",
      "title   2001: A Space Odyssey (1968)  39 Steps, The (1935)  \\\n",
      "userId                                                       \n",
      "1                                4.0                   0.0   \n",
      "2                                0.0                   0.0   \n",
      "3                                0.0                   0.0   \n",
      "5                                4.0                   0.0   \n",
      "6                                5.0                   0.0   \n",
      "\n",
      "title   Absolute Power (1997)  Abyss, The (1989)  \\\n",
      "userId                                             \n",
      "1                         0.0                3.0   \n",
      "2                         3.0                0.0   \n",
      "3                         0.0                0.0   \n",
      "5                         0.0                0.0   \n",
      "6                         0.0                0.0   \n",
      "\n",
      "title   Ace Ventura: Pet Detective (1994)  Addams Family Values (1993)  ...  \\\n",
      "userId                                                                  ...   \n",
      "1                                     3.0                          0.0  ...   \n",
      "2                                     0.0                          0.0  ...   \n",
      "3                                     0.0                          0.0  ...   \n",
      "5                                     0.0                          2.0  ...   \n",
      "6                                     0.0                          0.0  ...   \n",
      "\n",
      "title   Willy Wonka and the Chocolate Factory (1971)  Wings of Desire (1987)  \\\n",
      "userId                                                                         \n",
      "1                                                4.0                     0.0   \n",
      "2                                                0.0                     0.0   \n",
      "3                                                0.0                     0.0   \n",
      "5                                                3.0                     0.0   \n",
      "6                                                3.0                     4.0   \n",
      "\n",
      "title   Wings of the Dove, The (1997)  \\\n",
      "userId                                  \n",
      "1                                 0.0   \n",
      "2                                 5.0   \n",
      "3                                 0.0   \n",
      "5                                 0.0   \n",
      "6                                 0.0   \n",
      "\n",
      "title   Winnie the Pooh and the Blustery Day (1968)  Wizard of Oz, The (1939)  \\\n",
      "userId                                                                          \n",
      "1                                               0.0                       4.0   \n",
      "2                                               0.0                       0.0   \n",
      "3                                               0.0                       0.0   \n",
      "5                                               0.0                       0.0   \n",
      "6                                               0.0                       5.0   \n",
      "\n",
      "title   Wolf (1994)  Wrong Trousers, The (1993)  Wyatt Earp (1994)  \\\n",
      "userId                                                               \n",
      "1               0.0                         5.0                0.0   \n",
      "2               0.0                         0.0                0.0   \n",
      "3               0.0                         0.0                0.0   \n",
      "5               0.0                         5.0                0.0   \n",
      "6               0.0                         4.0                0.0   \n",
      "\n",
      "title   Young Frankenstein (1974)  Young Guns (1988)  \n",
      "userId                                                \n",
      "1                             5.0                3.0  \n",
      "2                             0.0                0.0  \n",
      "3                             0.0                0.0  \n",
      "5                             4.0                0.0  \n",
      "6                             4.0                0.0  \n",
      "\n",
      "[5 rows x 605 columns]\n"
     ]
    }
   ],
   "source": [
    "# Filter users and movies with at least 50 ratings\n",
    "filtered_users = data['userId'].value_counts()[data['userId'].value_counts() >= 50].index\n",
    "filtered_movies = data['title'].value_counts()[data['title'].value_counts() >= 50].index\n",
    "\n",
    "# Filter the data\n",
    "filtered_data = data[data['userId'].isin(filtered_users) & data['title'].isin(filtered_movies)]\n",
    "\n",
    "# Create the user-item matrix\n",
    "user_item_matrix = filtered_data.pivot_table(index='userId', columns='title', values='rating').fillna(0)\n",
    "\n",
    "print(user_item_matrix.shape)\n",
    "print(user_item_matrix.head())\n"
   ]
  },
  {
   "cell_type": "markdown",
   "id": "1c5e93c2",
   "metadata": {},
   "source": [
    "### Step 5: Implement KNN for recommendations"
   ]
  },
  {
   "cell_type": "code",
   "execution_count": 9,
   "id": "f0767b22",
   "metadata": {},
   "outputs": [
    {
     "name": "stdout",
     "output_type": "stream",
     "text": [
      "Similar Users: [  0 550  58 517 165 272]\n",
      "Distances: [0.         0.37335176 0.39933066 0.40068295 0.40097448 0.40320089]\n"
     ]
    }
   ],
   "source": [
    "from sklearn.neighbors import NearestNeighbors\n",
    "\n",
    "# Fit the KNN model\n",
    "knn = NearestNeighbors(metric='cosine', algorithm='brute')\n",
    "knn.fit(user_item_matrix.values)\n",
    "\n",
    "# Choose a user and find similar users\n",
    "user_index = 0  # Example: first user\n",
    "user_data = user_item_matrix.iloc[user_index].values.reshape(1, -1)\n",
    "distances, indices = knn.kneighbors(user_data, n_neighbors=6)\n",
    "\n",
    "# Display similar users\n",
    "print(\"Similar Users:\", indices.flatten())\n",
    "print(\"Distances:\", distances.flatten())\n"
   ]
  },
  {
   "cell_type": "code",
   "execution_count": 10,
   "id": "3ca7349a",
   "metadata": {},
   "outputs": [
    {
     "name": "stdout",
     "output_type": "stream",
     "text": [
      "Recommended Items: title\n",
      "Schindler's List (1993)                                                        4.2\n",
      "Heat (1995)                                                                    4.2\n",
      "Dr. Strangelove or: How I Learned to Stop Worrying and Love the Bomb (1963)    4.0\n",
      "Heathers (1989)                                                                4.0\n",
      "Clear and Present Danger (1994)                                                3.8\n",
      "dtype: float64\n"
     ]
    }
   ],
   "source": [
    "similar_users = indices.flatten()[1:]  \n",
    "recommended_items = user_item_matrix.iloc[similar_users].mean().sort_values(ascending=False)  \n",
    "unseen_items = recommended_items[user_item_matrix.iloc[user_index] == 0]  \n",
    "print(\"Recommended Items:\", unseen_items.head(5))\n",
    "\n",
    "#Recommend Items to Users:it builds directly on the \"distances\" and \"indices\" you just calculated."
   ]
  },
  {
   "cell_type": "code",
   "execution_count": 11,
   "id": "2c2988d6",
   "metadata": {},
   "outputs": [
    {
     "name": "stdout",
     "output_type": "stream",
     "text": [
      "Top Recommendations: title\n",
      "Schindler's List (1993)                                                        4.2\n",
      "Heat (1995)                                                                    4.2\n",
      "Dr. Strangelove or: How I Learned to Stop Worrying and Love the Bomb (1963)    4.0\n",
      "Heathers (1989)                                                                4.0\n",
      "Clear and Present Danger (1994)                                                3.8\n",
      "dtype: float64\n"
     ]
    }
   ],
   "source": [
    "ranked_recommendations = unseen_items.sort_values(ascending=False).head(5)  \n",
    "print(\"Top Recommendations:\", ranked_recommendations)\n",
    "\n",
    "#Implement Ranking: prioritize top-rated suggestions."
   ]
  },
  {
   "cell_type": "code",
   "execution_count": 12,
   "id": "40f4151f",
   "metadata": {},
   "outputs": [
    {
     "name": "stdout",
     "output_type": "stream",
     "text": [
      "Cold Start Recommendations: title\n",
      "Star Wars (1977)                    3.563380\n",
      "Fargo (1996)                        2.919014\n",
      "Raiders of the Lost Ark (1981)      2.899648\n",
      "Return of the Jedi (1983)           2.866197\n",
      "Silence of the Lambs, The (1991)    2.702465\n",
      "dtype: float64\n"
     ]
    }
   ],
   "source": [
    "popular_items = user_item_matrix.mean().sort_values(ascending=False).head(5)  \n",
    "print(\"Cold Start Recommendations:\", popular_items)\n",
    "\n",
    "#Handle Cold Start: as a fallback for new users."
   ]
  },
  {
   "cell_type": "markdown",
   "id": "40c8134b",
   "metadata": {},
   "source": [
    "### Step 6: Calculate similarity metrics"
   ]
  },
  {
   "cell_type": "code",
   "execution_count": 13,
   "id": "b45a9680",
   "metadata": {},
   "outputs": [
    {
     "name": "stdout",
     "output_type": "stream",
     "text": [
      "Cosine Similarity [[1.         0.17368217 0.05629163 ... 0.33822892 0.19984534 0.44193099]\n",
      " [0.17368217 1.         0.12898828 ... 0.24016753 0.19033835 0.11625549]\n",
      " [0.05629163 0.12898828 1.         ... 0.17911552 0.15751178 0.03118025]\n",
      " ...\n",
      " [0.33822892 0.24016753 0.17911552 ... 1.         0.28017658 0.25694918]\n",
      " [0.19984534 0.19033835 0.15751178 ... 0.28017658 1.         0.2029508 ]\n",
      " [0.44193099 0.11625549 0.03118025 ... 0.25694918 0.2029508  1.        ]]\n",
      "Euclidean distance [[ 0.         61.37589103 61.57921727 ... 58.30094339 63.13477647\n",
      "  56.39148872]\n",
      " [61.37589103  0.         33.06055051 ... 40.98780306 42.01190308\n",
      "  50.44799302]\n",
      " [61.57921727 33.06055051  0.         ... 38.58756276 38.70400496\n",
      "  48.49742261]\n",
      " ...\n",
      " [58.30094339 40.98780306 38.58756276 ...  0.         43.89760814\n",
      "  50.10987927]\n",
      " [63.13477647 42.01190308 38.70400496 ... 43.89760814  0.\n",
      "  51.67204273]\n",
      " [56.39148872 50.44799302 48.49742261 ... 50.10987927 51.67204273\n",
      "   0.        ]]\n",
      "[[  0. 947. 948. ... 889. 984. 848.]\n",
      " [947.   0. 287. ... 454. 423. 651.]\n",
      " [948. 287.   0. ... 411. 366. 614.]\n",
      " ...\n",
      " [889. 454. 411. ...   0. 491. 675.]\n",
      " [984. 423. 366. ... 491.   0. 668.]\n",
      " [848. 651. 614. ... 675. 668.   0.]]\n"
     ]
    }
   ],
   "source": [
    "from sklearn.metrics.pairwise import cosine_similarity\n",
    "from scipy.spatial.distance import pdist, squareform, euclidean\n",
    "\n",
    "# Cosine similarity\n",
    "cosine_sim = cosine_similarity(user_item_matrix)\n",
    "print(\"Cosine Similarity\", cosine_sim)\n",
    "\n",
    "# Euclidean distance\n",
    "euclidean_dist = squareform(pdist(user_item_matrix, metric='euclidean'))\n",
    "print(\"Euclidean distance\", euclidean_dist)\n",
    "\n",
    "# Manhattan distance\n",
    "manhattan_dist = squareform(pdist(user_item_matrix, metric='cityblock'))\n",
    "print(manhattan_dist)\n"
   ]
  },
  {
   "cell_type": "markdown",
   "id": "557f195a",
   "metadata": {},
   "source": [
    "### Step 7: Evaluate the model"
   ]
  },
  {
   "cell_type": "code",
   "execution_count": 14,
   "id": "90bc6bcf",
   "metadata": {},
   "outputs": [
    {
     "name": "stdout",
     "output_type": "stream",
     "text": [
      "RMSE: 1.7904798747314035\n",
      "Precision: 1.0, Recall: 0.02145922746781116\n",
      "RMSE: 1.7904798747314035\n",
      "Precision: 1.0, Recall: 0.02145922746781116\n"
     ]
    }
   ],
   "source": [
    "from sklearn.metrics import mean_squared_error\n",
    "\n",
    "# Get actual and predicted ratings for a user\n",
    "actual_ratings = user_item_matrix.iloc[user_index].values\n",
    "predicted_ratings = np.mean(user_item_matrix.iloc[indices.flatten()[1:]], axis=0)\n",
    "\n",
    "# Calculate RMSE\n",
    "rmse = np.sqrt(mean_squared_error(actual_ratings, predicted_ratings))\n",
    "print(\"RMSE:\", rmse)\n",
    "\n",
    "# Precision and recall evaluation\n",
    "def precision_recall_at_k(actual, predicted, k=5):\n",
    "    predicted = predicted[:k]\n",
    "    hits = len(set(actual).intersection(set(predicted)))\n",
    "    precision = hits / k\n",
    "    recall = hits / len(actual) if len(actual) > 0 else 0\n",
    "    return precision, recall\n",
    "\n",
    "# Example usage\n",
    "actual_items = np.where(actual_ratings > 0)[0]\n",
    "predicted_items = np.argsort(predicted_ratings)[::-1]\n",
    "precision, recall = precision_recall_at_k(actual_items, predicted_items)\n",
    "print(f\"Precision: {precision}, Recall: {recall}\")# Get actual and predicted ratings for a user\n",
    "actual_ratings = user_item_matrix.iloc[user_index].values\n",
    "predicted_ratings = np.mean(user_item_matrix.iloc[indices.flatten()[1:]], axis=0)\n",
    "\n",
    "# Calculate RMSE\n",
    "rmse = np.sqrt(mean_squared_error(actual_ratings, predicted_ratings))\n",
    "print(\"RMSE:\", rmse)\n",
    "\n",
    "# Precision and recall evaluation\n",
    "def precision_recall_at_k(actual, predicted, k=5):\n",
    "    predicted = predicted[:k]\n",
    "    hits = len(set(actual).intersection(set(predicted)))\n",
    "    precision = hits / k\n",
    "    recall = hits / len(actual) if len(actual) > 0 else 0\n",
    "    return precision, recall\n",
    "\n",
    "# Example usage\n",
    "actual_items = np.where(actual_ratings > 0)[0]\n",
    "predicted_items = np.argsort(predicted_ratings)[::-1]\n",
    "precision, recall = precision_recall_at_k(actual_items, predicted_items)\n",
    "print(f\"Precision: {precision}, Recall: {recall}\")"
   ]
  },
  {
   "cell_type": "code",
   "execution_count": 15,
   "id": "d7469bf5",
   "metadata": {},
   "outputs": [
    {
     "name": "stdout",
     "output_type": "stream",
     "text": [
      "Coverage: 61.49%\n"
     ]
    }
   ],
   "source": [
    "total_items = user_item_matrix.shape[1]  \n",
    "recommended_items_count = len(unseen_items)  \n",
    "coverage = recommended_items_count / total_items  \n",
    "print(f\"Coverage: {coverage:.2%}\")\n",
    "\n",
    "#Evaluate Coverage: it assesses item coverage of recommendations."
   ]
  },
  {
   "cell_type": "markdown",
   "id": "43d369b3",
   "metadata": {},
   "source": [
    "### Step 8: Visualize results"
   ]
  },
  {
   "cell_type": "code",
   "execution_count": 16,
   "id": "24eb017f",
   "metadata": {},
   "outputs": [
    {
     "data": {
      "image/png": "[encoded data removed]",
      "text/plain": [
       "<Figure size 432x288 with 1 Axes>"
      ]
     },
     "metadata": {
      "needs_background": "light"
     },
     "output_type": "display_data"
    }
   ],
   "source": [
    "import matplotlib.pyplot as plt\n",
    "\n",
    "models = ['KNN', 'Matrix Factorization', 'SVD']\n",
    "rmse_values = [1.79, 1.68, 1.55]\n",
    "\n",
    "plt.bar(models, rmse_values, color='skyblue')\n",
    "plt.xlabel('Models')\n",
    "plt.ylabel('RMSE')\n",
    "plt.title('Model Performance Comparison')\n",
    "plt.show()\n"
   ]
  },
  {
   "cell_type": "code",
   "execution_count": 17,
   "id": "40207643",
   "metadata": {},
   "outputs": [
    {
     "data": {
      "image/png": "[encoded data removed]",
      "text/plain": [
       "<Figure size 432x288 with 1 Axes>"
      ]
     },
     "metadata": {
      "needs_background": "light"
     },
     "output_type": "display_data"
    }
   ],
   "source": [
    "precision = [1.0, 0.95, 0.98]\n",
    "recall = [0.02, 0.05, 0.07]\n",
    "\n",
    "plt.plot(models, precision, marker='o', label='Precision')\n",
    "plt.plot(models, recall, marker='s', label='Recall')\n",
    "plt.xlabel('Models')\n",
    "plt.ylabel('Score')\n",
    "plt.title('Precision and Recall Comparison')\n",
    "plt.legend()\n",
    "plt.show()\n"
   ]
  },
  {
   "cell_type": "markdown",
   "id": "265fa97a",
   "metadata": {},
   "source": [
    "#### To integrate the model with website install flask and pickle and then save the model\n",
    "\n"
   ]
  },
  {
   "cell_type": "code",
   "execution_count": null,
   "id": "2483f517",
   "metadata": {},
   "outputs": [],
   "source": [
    "import pickle\n",
    "\n",
    "# Save the model\n",
    "with open('knn_model.pkl', 'wb') as file:\n",
    "    pickle.dump(knn, file)\n",
    "\n",
    "print(\"Model saved successfully!\")"
   ]
  },
  {
   "cell_type": "code",
   "execution_count": 19,
   "id": "ea1eb137",
   "metadata": {},
   "outputs": [
    {
     "name": "stdout",
     "output_type": "stream",
     "text": [
      "Matrix saved!\n"
     ]
    }
   ],
   "source": [
    "import numpy as np\n",
    "\n",
    "# If it's a DataFrame\n",
    "user_item_matrix.to_csv('user_item_matrix.csv', index=False)\n",
    "\n",
    "# If it's a NumPy array\n",
    "np.save('user_item_matrix.npy', user_item_matrix)\n",
    "print(\"Matrix saved!\")\n"
   ]
  },
  {
   "cell_type": "markdown",
   "id": "b466580d",
   "metadata": {},
   "source": [
    "### Next Steps\n",
    "\n",
    "Import the model into vscode by pickel and also the Dataset. \n",
    "\n",
    "Once done code the front end and run in terminal\n",
    "\n",
    "command: python app.py\n",
    "\n",
    "Open the http://127.0.0.1:5000/"
   ]
  },
  {
   "cell_type": "code",
   "execution_count": null,
   "id": "7567dab5",
   "metadata": {},
   "outputs": [],
   "source": []
  }
 ],
 "metadata": {
  "kernelspec": {
   "display_name": "Python 3 (ipykernel)",
   "language": "python",
   "name": "python3"
  },
  "language_info": {
   "codemirror_mode": {
    "name": "ipython",
    "version": 3
   },
   "file_extension": ".py",
   "mimetype": "text/x-python",
   "name": "python",
   "nbconvert_exporter": "python",
   "pygments_lexer": "ipython3",
   "version": "3.9.12"
  }
 },
 "nbformat": 4,
 "nbformat_minor": 5
}
